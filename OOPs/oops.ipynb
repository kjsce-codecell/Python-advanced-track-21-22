{
 "cells": [
  {
   "cell_type": "code",
   "execution_count": 12,
   "source": [
    "class Bicycle:\r\n",
    "    def __init__(self, gear, speed):\r\n",
    "        self.gear = gear\r\n",
    "        self.speed = speed\r\n",
    "    \r\n",
    "    def apply_brake(self):\r\n",
    "        self.speed-=1\r\n",
    "    \r\n",
    "    def speed_up(self):\r\n",
    "        self.speed+=1\r\n",
    "    \r\n",
    "    def __repr__(self) -> str:\r\n",
    "        return f\"gear: {self.gear}, speed: {self.speed} \"\r\n",
    "    \r\n",
    "\r\n",
    "    \r\n",
    "    "
   ],
   "outputs": [],
   "metadata": {}
  },
  {
   "cell_type": "code",
   "execution_count": 14,
   "source": [
    "b1 = Bicycle(6, 50)\r\n",
    "print(b1)"
   ],
   "outputs": [
    {
     "output_type": "stream",
     "name": "stdout",
     "text": [
      "gear: 6, speed: 50 \n"
     ]
    }
   ],
   "metadata": {}
  },
  {
   "cell_type": "code",
   "execution_count": 38,
   "source": [
    "class MotorBike(Bicycle):\r\n",
    "    def __init__(self, gear, speed, engine):\r\n",
    "        Bicycle.__init__(self, gear, speed)\r\n",
    "        self.__engine = engine\r\n",
    "    \r\n",
    "    def change_engine(self, engine):\r\n",
    "        self.__engine= engine\r\n",
    "        \r\n",
    "    def __repr__(self) -> str:\r\n",
    "        return f\"gear: {self.gear}, speed: {self.speed}, Engine: {self.__engine}\"\r\n",
    "    "
   ],
   "outputs": [],
   "metadata": {}
  },
  {
   "cell_type": "code",
   "execution_count": null,
   "source": [],
   "outputs": [],
   "metadata": {}
  },
  {
   "cell_type": "code",
   "execution_count": 39,
   "source": [
    "m1 = MotorBike(6, 50, 'two-stroke')\r\n",
    "m1.speed = 5\r\n",
    "m1.change_engine(\"four-stroke\")\r\n",
    "m1"
   ],
   "outputs": [
    {
     "output_type": "execute_result",
     "data": {
      "text/plain": [
       "gear: 6, speed: 5, Engine: four-stroke"
      ]
     },
     "metadata": {},
     "execution_count": 39
    }
   ],
   "metadata": {}
  },
  {
   "cell_type": "code",
   "execution_count": 40,
   "source": [
    "import numpy\r\n",
    "\r\n",
    "x= numpy.array([1,2,3])\r\n",
    "x"
   ],
   "outputs": [
    {
     "output_type": "execute_result",
     "data": {
      "text/plain": [
       "array([1, 2, 3])"
      ]
     },
     "metadata": {},
     "execution_count": 40
    }
   ],
   "metadata": {}
  },
  {
   "cell_type": "code",
   "execution_count": 42,
   "source": [
    "isinstance(m1, Bicycle)"
   ],
   "outputs": [
    {
     "output_type": "execute_result",
     "data": {
      "text/plain": [
       "True"
      ]
     },
     "metadata": {},
     "execution_count": 42
    }
   ],
   "metadata": {}
  }
 ],
 "metadata": {
  "orig_nbformat": 4,
  "language_info": {
   "name": "python",
   "version": "3.8.8",
   "mimetype": "text/x-python",
   "codemirror_mode": {
    "name": "ipython",
    "version": 3
   },
   "pygments_lexer": "ipython3",
   "nbconvert_exporter": "python",
   "file_extension": ".py"
  },
  "kernelspec": {
   "name": "python3",
   "display_name": "Python 3.8.8 64-bit ('tensorflow': conda)"
  },
  "interpreter": {
   "hash": "a6a7d571e15f6efb62e48d0cf05323e1d6fb335e7727a510e81ba183e3449d0c"
  }
 },
 "nbformat": 4,
 "nbformat_minor": 2
}